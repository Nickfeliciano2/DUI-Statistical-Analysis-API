import numpy as np
import pandas as pd
import matplotlib.pyplot as plt
import requests
import json 
import csv
import os
