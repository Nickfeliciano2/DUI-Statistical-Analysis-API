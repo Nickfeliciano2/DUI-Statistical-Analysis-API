{
 "cells": [
  {
   "cell_type": "code",
   "execution_count": null,
   "metadata": {},
   "outputs": [],
   "source": [
    "# Dependencies and Setup\n",
    "import matplotlib.pyplot as plt\n",
    "import pandas as pd\n",
    "import numpy as np\n",
    "from pprint import pprint\n",
    "import requests\n",
    "import time\n",
    "from scipy.stats import linregress\n",
    "import os\n",
    "import csv\n",
    "\n",
    "# Import API key\n",
    "from api_keys import api_key_file\n",
    "\n",
    "# Output File (CSV)\n",
    "output_data_file = \"output_data/duistats.csv\"\n",
    "\n",
    "# File to Load (**Remember to Change These file names to DUI saved file names)\n",
    "2013_dui_data = \"wherever file is saved/nrs_2013_combined.csv\"\n",
    "2007_dui_data = \"wherever file is saved/nrs_2007_final.csv\"\n",
    "\n",
    "# Read DUI 2007 and 2013 Data Files and store into Pandas DataFrames(can't start with a number)\n",
    "dui2013_data = pd.read_csv(2013_dui_data)\n",
    "dui2007_data = pd.read_csv(2007_dui_data)\n",
    "\n",
    "#renames for merge\n",
    "dui2007_data.rename(columns = {\"STATE\": \"State\"}, inplace = True)\n",
    "\n",
    "# Combine the data into a single dataset.  \n",
    "dui_data_complete = pd.merge(dui2013_data,dui2007_data, how=\"left\", on=[\"State\"])"
   ]
  },
  {
   "cell_type": "code",
   "execution_count": null,
   "metadata": {},
   "outputs": [],
   "source": [
    "# Create an overview table grouped by State\n",
    "per_state = dui_data_complete.set_index(\"State\").groupby([\"State\"])\n",
    "per_state.head()"
   ]
  },
  {
   "cell_type": "code",
   "execution_count": null,
   "metadata": {},
   "outputs": [],
   "source": [
    "#Declare columns/variables to keep and create a summary dataframe\n",
    "#links to data dictionaries for dui studies (help decided relevant columns)\n",
    "#https://www.nhtsa.gov/sites/nhtsa.dot.gov/files/documents/2007_nrsdatadictionary.pdf\n",
    "#https://www.nhtsa.gov/sites/nhtsa.dot.gov/files/documents/nrs_2013datadictionary.pdf\n",
    "\n",
    "timeday\n",
    "STATE\n",
    "NRS_AREA\n",
    "DATE\n",
    "\n",
    "dui_summary = pd.DataFrame({})\n",
    "\n",
    "dui_summary.head()"
   ]
  },
  {
   "cell_type": "code",
   "execution_count": null,
   "metadata": {},
   "outputs": [],
   "source": [
    "#census data link to retrieve population information per state\n",
    "#https://www.census.gov/quickfacts/fact/table/US/PST040219"
   ]
  }
 ],
 "metadata": {
  "kernelspec": {
   "display_name": "Python 3",
   "language": "python",
   "name": "python3"
  },
  "language_info": {
   "codemirror_mode": {
    "name": "ipython",
    "version": 3
   },
   "file_extension": ".py",
   "mimetype": "text/x-python",
   "name": "python",
   "nbconvert_exporter": "python",
   "pygments_lexer": "ipython3",
   "version": "3.8.3"
  }
 },
 "nbformat": 4,
 "nbformat_minor": 4
}
