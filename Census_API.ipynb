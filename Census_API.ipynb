{
 "cells": [
  {
   "cell_type": "code",
   "execution_count": 9,
   "metadata": {},
   "outputs": [
    {
     "name": "stdout",
     "output_type": "stream",
     "text": [
      "<Response [400]>\n"
     ]
    }
   ],
   "source": [
    "import numpy as np\n",
    "import pandas as pd\n",
    "import matplotlib.pyplot as plt\n",
    "import requests\n",
    "import json \n",
    "# Census API Key\n",
    "from config import api_key\n",
    "\n",
    "base_url =  'https://api.census.gov/data/2014/pep/natstprc?get=STNAME,POP&DATE_=7&for=state:*'\n",
    "\n",
    "params = {\n",
    "    \"BIRTHS\": \"Total Births\",  \n",
    "    \"DATE_\": \"Estimate Date\",\n",
    "    'DEATHS': 'Total Deaths',\n",
    "    'DENSITY': 'Population Density',\n",
    "    'DIVISION': 'Division name',\n",
    "    'NIM': 'Net International Migrations',\n",
    "    'POP': 'Resident population total',\n",
    "    'REGION': 'Region nam',\n",
    "    'RESIDUAL': 'Final residual for total pop',\n",
    "    'STATE': 'State FIPS Code',\n",
    "    'STNAME': 'State FIPS Code',\n",
    "    'SUMLEV': 'State name',\n",
    "    \"key\": api_key,\n",
    "}\n",
    "\n",
    "    # assemble url and make API request\n",
    "response = requests.get(base_url, params=params)\n",
    "print(response)\n",
    "\n"
   ]
  },
  {
   "cell_type": "code",
   "execution_count": null,
   "metadata": {},
   "outputs": [],
   "source": []
  }
 ],
 "metadata": {
  "kernelspec": {
   "display_name": "Python 3",
   "language": "python",
   "name": "python3"
  },
  "language_info": {
   "codemirror_mode": {
    "name": "ipython",
    "version": 3
   },
   "file_extension": ".py",
   "mimetype": "text/x-python",
   "name": "python",
   "nbconvert_exporter": "python",
   "pygments_lexer": "ipython3",
   "version": "3.8.3"
  }
 },
 "nbformat": 4,
 "nbformat_minor": 4
}
